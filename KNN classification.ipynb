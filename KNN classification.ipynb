{
  "cells": [
    {
      "cell_type": "markdown",
      "id": "6cae48cb-b516-4b4b-8eda-d74f7568bdc5",
      "metadata": {
        "id": "6cae48cb-b516-4b4b-8eda-d74f7568bdc5"
      },
      "source": [
        "# K nearest negihbor"
      ]
    },
    {
      "cell_type": "code",
      "execution_count": 1,
      "id": "5a1b78b5-0cd4-4266-8b4b-c21721845bfe",
      "metadata": {
        "id": "5a1b78b5-0cd4-4266-8b4b-c21721845bfe"
      },
      "outputs": [],
      "source": [
        "import pandas as pd\n",
        "import numpy as np\n",
        "\n",
        "import matplotlib.pyplot as plt\n",
        "import seaborn as sns\n",
        "\n",
        "\n",
        "from sklearn import datasets"
      ]
    },
    {
      "cell_type": "code",
      "execution_count": 2,
      "id": "773f395c-2957-4078-9ea3-cee82cb786ea",
      "metadata": {
        "collapsed": true,
        "id": "773f395c-2957-4078-9ea3-cee82cb786ea",
        "outputId": "bdf86d04-ba2b-4981-92c2-3aa985a35f26",
        "colab": {
          "base_uri": "https://localhost:8080/"
        }
      },
      "outputs": [
        {
          "output_type": "execute_result",
          "data": {
            "text/plain": [
              "{'data': array([[5.1, 3.5, 1.4, 0.2],\n",
              "        [4.9, 3. , 1.4, 0.2],\n",
              "        [4.7, 3.2, 1.3, 0.2],\n",
              "        [4.6, 3.1, 1.5, 0.2],\n",
              "        [5. , 3.6, 1.4, 0.2],\n",
              "        [5.4, 3.9, 1.7, 0.4],\n",
              "        [4.6, 3.4, 1.4, 0.3],\n",
              "        [5. , 3.4, 1.5, 0.2],\n",
              "        [4.4, 2.9, 1.4, 0.2],\n",
              "        [4.9, 3.1, 1.5, 0.1],\n",
              "        [5.4, 3.7, 1.5, 0.2],\n",
              "        [4.8, 3.4, 1.6, 0.2],\n",
              "        [4.8, 3. , 1.4, 0.1],\n",
              "        [4.3, 3. , 1.1, 0.1],\n",
              "        [5.8, 4. , 1.2, 0.2],\n",
              "        [5.7, 4.4, 1.5, 0.4],\n",
              "        [5.4, 3.9, 1.3, 0.4],\n",
              "        [5.1, 3.5, 1.4, 0.3],\n",
              "        [5.7, 3.8, 1.7, 0.3],\n",
              "        [5.1, 3.8, 1.5, 0.3],\n",
              "        [5.4, 3.4, 1.7, 0.2],\n",
              "        [5.1, 3.7, 1.5, 0.4],\n",
              "        [4.6, 3.6, 1. , 0.2],\n",
              "        [5.1, 3.3, 1.7, 0.5],\n",
              "        [4.8, 3.4, 1.9, 0.2],\n",
              "        [5. , 3. , 1.6, 0.2],\n",
              "        [5. , 3.4, 1.6, 0.4],\n",
              "        [5.2, 3.5, 1.5, 0.2],\n",
              "        [5.2, 3.4, 1.4, 0.2],\n",
              "        [4.7, 3.2, 1.6, 0.2],\n",
              "        [4.8, 3.1, 1.6, 0.2],\n",
              "        [5.4, 3.4, 1.5, 0.4],\n",
              "        [5.2, 4.1, 1.5, 0.1],\n",
              "        [5.5, 4.2, 1.4, 0.2],\n",
              "        [4.9, 3.1, 1.5, 0.2],\n",
              "        [5. , 3.2, 1.2, 0.2],\n",
              "        [5.5, 3.5, 1.3, 0.2],\n",
              "        [4.9, 3.6, 1.4, 0.1],\n",
              "        [4.4, 3. , 1.3, 0.2],\n",
              "        [5.1, 3.4, 1.5, 0.2],\n",
              "        [5. , 3.5, 1.3, 0.3],\n",
              "        [4.5, 2.3, 1.3, 0.3],\n",
              "        [4.4, 3.2, 1.3, 0.2],\n",
              "        [5. , 3.5, 1.6, 0.6],\n",
              "        [5.1, 3.8, 1.9, 0.4],\n",
              "        [4.8, 3. , 1.4, 0.3],\n",
              "        [5.1, 3.8, 1.6, 0.2],\n",
              "        [4.6, 3.2, 1.4, 0.2],\n",
              "        [5.3, 3.7, 1.5, 0.2],\n",
              "        [5. , 3.3, 1.4, 0.2],\n",
              "        [7. , 3.2, 4.7, 1.4],\n",
              "        [6.4, 3.2, 4.5, 1.5],\n",
              "        [6.9, 3.1, 4.9, 1.5],\n",
              "        [5.5, 2.3, 4. , 1.3],\n",
              "        [6.5, 2.8, 4.6, 1.5],\n",
              "        [5.7, 2.8, 4.5, 1.3],\n",
              "        [6.3, 3.3, 4.7, 1.6],\n",
              "        [4.9, 2.4, 3.3, 1. ],\n",
              "        [6.6, 2.9, 4.6, 1.3],\n",
              "        [5.2, 2.7, 3.9, 1.4],\n",
              "        [5. , 2. , 3.5, 1. ],\n",
              "        [5.9, 3. , 4.2, 1.5],\n",
              "        [6. , 2.2, 4. , 1. ],\n",
              "        [6.1, 2.9, 4.7, 1.4],\n",
              "        [5.6, 2.9, 3.6, 1.3],\n",
              "        [6.7, 3.1, 4.4, 1.4],\n",
              "        [5.6, 3. , 4.5, 1.5],\n",
              "        [5.8, 2.7, 4.1, 1. ],\n",
              "        [6.2, 2.2, 4.5, 1.5],\n",
              "        [5.6, 2.5, 3.9, 1.1],\n",
              "        [5.9, 3.2, 4.8, 1.8],\n",
              "        [6.1, 2.8, 4. , 1.3],\n",
              "        [6.3, 2.5, 4.9, 1.5],\n",
              "        [6.1, 2.8, 4.7, 1.2],\n",
              "        [6.4, 2.9, 4.3, 1.3],\n",
              "        [6.6, 3. , 4.4, 1.4],\n",
              "        [6.8, 2.8, 4.8, 1.4],\n",
              "        [6.7, 3. , 5. , 1.7],\n",
              "        [6. , 2.9, 4.5, 1.5],\n",
              "        [5.7, 2.6, 3.5, 1. ],\n",
              "        [5.5, 2.4, 3.8, 1.1],\n",
              "        [5.5, 2.4, 3.7, 1. ],\n",
              "        [5.8, 2.7, 3.9, 1.2],\n",
              "        [6. , 2.7, 5.1, 1.6],\n",
              "        [5.4, 3. , 4.5, 1.5],\n",
              "        [6. , 3.4, 4.5, 1.6],\n",
              "        [6.7, 3.1, 4.7, 1.5],\n",
              "        [6.3, 2.3, 4.4, 1.3],\n",
              "        [5.6, 3. , 4.1, 1.3],\n",
              "        [5.5, 2.5, 4. , 1.3],\n",
              "        [5.5, 2.6, 4.4, 1.2],\n",
              "        [6.1, 3. , 4.6, 1.4],\n",
              "        [5.8, 2.6, 4. , 1.2],\n",
              "        [5. , 2.3, 3.3, 1. ],\n",
              "        [5.6, 2.7, 4.2, 1.3],\n",
              "        [5.7, 3. , 4.2, 1.2],\n",
              "        [5.7, 2.9, 4.2, 1.3],\n",
              "        [6.2, 2.9, 4.3, 1.3],\n",
              "        [5.1, 2.5, 3. , 1.1],\n",
              "        [5.7, 2.8, 4.1, 1.3],\n",
              "        [6.3, 3.3, 6. , 2.5],\n",
              "        [5.8, 2.7, 5.1, 1.9],\n",
              "        [7.1, 3. , 5.9, 2.1],\n",
              "        [6.3, 2.9, 5.6, 1.8],\n",
              "        [6.5, 3. , 5.8, 2.2],\n",
              "        [7.6, 3. , 6.6, 2.1],\n",
              "        [4.9, 2.5, 4.5, 1.7],\n",
              "        [7.3, 2.9, 6.3, 1.8],\n",
              "        [6.7, 2.5, 5.8, 1.8],\n",
              "        [7.2, 3.6, 6.1, 2.5],\n",
              "        [6.5, 3.2, 5.1, 2. ],\n",
              "        [6.4, 2.7, 5.3, 1.9],\n",
              "        [6.8, 3. , 5.5, 2.1],\n",
              "        [5.7, 2.5, 5. , 2. ],\n",
              "        [5.8, 2.8, 5.1, 2.4],\n",
              "        [6.4, 3.2, 5.3, 2.3],\n",
              "        [6.5, 3. , 5.5, 1.8],\n",
              "        [7.7, 3.8, 6.7, 2.2],\n",
              "        [7.7, 2.6, 6.9, 2.3],\n",
              "        [6. , 2.2, 5. , 1.5],\n",
              "        [6.9, 3.2, 5.7, 2.3],\n",
              "        [5.6, 2.8, 4.9, 2. ],\n",
              "        [7.7, 2.8, 6.7, 2. ],\n",
              "        [6.3, 2.7, 4.9, 1.8],\n",
              "        [6.7, 3.3, 5.7, 2.1],\n",
              "        [7.2, 3.2, 6. , 1.8],\n",
              "        [6.2, 2.8, 4.8, 1.8],\n",
              "        [6.1, 3. , 4.9, 1.8],\n",
              "        [6.4, 2.8, 5.6, 2.1],\n",
              "        [7.2, 3. , 5.8, 1.6],\n",
              "        [7.4, 2.8, 6.1, 1.9],\n",
              "        [7.9, 3.8, 6.4, 2. ],\n",
              "        [6.4, 2.8, 5.6, 2.2],\n",
              "        [6.3, 2.8, 5.1, 1.5],\n",
              "        [6.1, 2.6, 5.6, 1.4],\n",
              "        [7.7, 3. , 6.1, 2.3],\n",
              "        [6.3, 3.4, 5.6, 2.4],\n",
              "        [6.4, 3.1, 5.5, 1.8],\n",
              "        [6. , 3. , 4.8, 1.8],\n",
              "        [6.9, 3.1, 5.4, 2.1],\n",
              "        [6.7, 3.1, 5.6, 2.4],\n",
              "        [6.9, 3.1, 5.1, 2.3],\n",
              "        [5.8, 2.7, 5.1, 1.9],\n",
              "        [6.8, 3.2, 5.9, 2.3],\n",
              "        [6.7, 3.3, 5.7, 2.5],\n",
              "        [6.7, 3. , 5.2, 2.3],\n",
              "        [6.3, 2.5, 5. , 1.9],\n",
              "        [6.5, 3. , 5.2, 2. ],\n",
              "        [6.2, 3.4, 5.4, 2.3],\n",
              "        [5.9, 3. , 5.1, 1.8]]),\n",
              " 'target': array([0, 0, 0, 0, 0, 0, 0, 0, 0, 0, 0, 0, 0, 0, 0, 0, 0, 0, 0, 0, 0, 0,\n",
              "        0, 0, 0, 0, 0, 0, 0, 0, 0, 0, 0, 0, 0, 0, 0, 0, 0, 0, 0, 0, 0, 0,\n",
              "        0, 0, 0, 0, 0, 0, 1, 1, 1, 1, 1, 1, 1, 1, 1, 1, 1, 1, 1, 1, 1, 1,\n",
              "        1, 1, 1, 1, 1, 1, 1, 1, 1, 1, 1, 1, 1, 1, 1, 1, 1, 1, 1, 1, 1, 1,\n",
              "        1, 1, 1, 1, 1, 1, 1, 1, 1, 1, 1, 1, 2, 2, 2, 2, 2, 2, 2, 2, 2, 2,\n",
              "        2, 2, 2, 2, 2, 2, 2, 2, 2, 2, 2, 2, 2, 2, 2, 2, 2, 2, 2, 2, 2, 2,\n",
              "        2, 2, 2, 2, 2, 2, 2, 2, 2, 2, 2, 2, 2, 2, 2, 2, 2, 2]),\n",
              " 'frame': None,\n",
              " 'target_names': array(['setosa', 'versicolor', 'virginica'], dtype='<U10'),\n",
              " 'DESCR': '.. _iris_dataset:\\n\\nIris plants dataset\\n--------------------\\n\\n**Data Set Characteristics:**\\n\\n:Number of Instances: 150 (50 in each of three classes)\\n:Number of Attributes: 4 numeric, predictive attributes and the class\\n:Attribute Information:\\n    - sepal length in cm\\n    - sepal width in cm\\n    - petal length in cm\\n    - petal width in cm\\n    - class:\\n            - Iris-Setosa\\n            - Iris-Versicolour\\n            - Iris-Virginica\\n\\n:Summary Statistics:\\n\\n============== ==== ==== ======= ===== ====================\\n                Min  Max   Mean    SD   Class Correlation\\n============== ==== ==== ======= ===== ====================\\nsepal length:   4.3  7.9   5.84   0.83    0.7826\\nsepal width:    2.0  4.4   3.05   0.43   -0.4194\\npetal length:   1.0  6.9   3.76   1.76    0.9490  (high!)\\npetal width:    0.1  2.5   1.20   0.76    0.9565  (high!)\\n============== ==== ==== ======= ===== ====================\\n\\n:Missing Attribute Values: None\\n:Class Distribution: 33.3% for each of 3 classes.\\n:Creator: R.A. Fisher\\n:Donor: Michael Marshall (MARSHALL%PLU@io.arc.nasa.gov)\\n:Date: July, 1988\\n\\nThe famous Iris database, first used by Sir R.A. Fisher. The dataset is taken\\nfrom Fisher\\'s paper. Note that it\\'s the same as in R, but not as in the UCI\\nMachine Learning Repository, which has two wrong data points.\\n\\nThis is perhaps the best known database to be found in the\\npattern recognition literature.  Fisher\\'s paper is a classic in the field and\\nis referenced frequently to this day.  (See Duda & Hart, for example.)  The\\ndata set contains 3 classes of 50 instances each, where each class refers to a\\ntype of iris plant.  One class is linearly separable from the other 2; the\\nlatter are NOT linearly separable from each other.\\n\\n.. dropdown:: References\\n\\n  - Fisher, R.A. \"The use of multiple measurements in taxonomic problems\"\\n    Annual Eugenics, 7, Part II, 179-188 (1936); also in \"Contributions to\\n    Mathematical Statistics\" (John Wiley, NY, 1950).\\n  - Duda, R.O., & Hart, P.E. (1973) Pattern Classification and Scene Analysis.\\n    (Q327.D83) John Wiley & Sons.  ISBN 0-471-22361-1.  See page 218.\\n  - Dasarathy, B.V. (1980) \"Nosing Around the Neighborhood: A New System\\n    Structure and Classification Rule for Recognition in Partially Exposed\\n    Environments\".  IEEE Transactions on Pattern Analysis and Machine\\n    Intelligence, Vol. PAMI-2, No. 1, 67-71.\\n  - Gates, G.W. (1972) \"The Reduced Nearest Neighbor Rule\".  IEEE Transactions\\n    on Information Theory, May 1972, 431-433.\\n  - See also: 1988 MLC Proceedings, 54-64.  Cheeseman et al\"s AUTOCLASS II\\n    conceptual clustering system finds 3 classes in the data.\\n  - Many, many more ...\\n',\n",
              " 'feature_names': ['sepal length (cm)',\n",
              "  'sepal width (cm)',\n",
              "  'petal length (cm)',\n",
              "  'petal width (cm)'],\n",
              " 'filename': 'iris.csv',\n",
              " 'data_module': 'sklearn.datasets.data'}"
            ]
          },
          "metadata": {},
          "execution_count": 2
        }
      ],
      "source": [
        "df = datasets.load_iris()\n",
        "df"
      ]
    },
    {
      "cell_type": "code",
      "execution_count": null,
      "id": "3d47a4e7-0c4a-4132-83f5-dc208fca4b74",
      "metadata": {
        "id": "3d47a4e7-0c4a-4132-83f5-dc208fca4b74",
        "outputId": "6b6a45c4-07f7-4b20-fe67-7e7bece35ebf"
      },
      "outputs": [
        {
          "data": {
            "text/plain": [
              "150"
            ]
          },
          "execution_count": 47,
          "metadata": {},
          "output_type": "execute_result"
        }
      ],
      "source": [
        "len(x)"
      ]
    },
    {
      "cell_type": "code",
      "execution_count": 3,
      "id": "66ed0b09-e96c-4c6c-9fcf-78b943838e62",
      "metadata": {
        "id": "66ed0b09-e96c-4c6c-9fcf-78b943838e62"
      },
      "outputs": [],
      "source": [
        "x=df['data'][:,:2] #sepal length and sepal width\n",
        "y=df['target']"
      ]
    },
    {
      "cell_type": "code",
      "execution_count": 4,
      "id": "207ae87e-6081-43f1-9c71-4d29b95eb61a",
      "metadata": {
        "id": "207ae87e-6081-43f1-9c71-4d29b95eb61a"
      },
      "outputs": [],
      "source": [
        "# y"
      ]
    },
    {
      "cell_type": "code",
      "execution_count": 11,
      "id": "23b56d1d-c3a2-4ba0-a84b-e5869e132240",
      "metadata": {
        "id": "23b56d1d-c3a2-4ba0-a84b-e5869e132240",
        "outputId": "e9e038fe-b1e2-416f-d19d-06ca1168833f",
        "colab": {
          "base_uri": "https://localhost:8080/",
          "height": 469
        }
      },
      "outputs": [
        {
          "output_type": "execute_result",
          "data": {
            "text/plain": [
              "<matplotlib.legend.Legend at 0x7e99f97e6ed0>"
            ]
          },
          "metadata": {},
          "execution_count": 11
        },
        {
          "output_type": "display_data",
          "data": {
            "text/plain": [
              "<Figure size 640x480 with 1 Axes>"
            ],
            "image/png": "[encoded data removed]"
          },
          "metadata": {}
        }
      ],
      "source": [
        "scatter=plt.scatter(x[:,0],x[:,1] ,c=y)\n",
        "plt.ylabel('sepal width')\n",
        "plt.xlabel('sepal length')\n",
        "plt.legend(handles=scatter.legend_elements()[0],labels=['Setosa', 'Versicolor', 'Virginica'])"
      ]
    },
    {
      "cell_type": "code",
      "execution_count": 12,
      "id": "ce103b9f-e796-41eb-a363-117ed785abd6",
      "metadata": {
        "id": "ce103b9f-e796-41eb-a363-117ed785abd6",
        "outputId": "5d895a18-47d1-4e21-de05-2696de9b1141",
        "colab": {
          "base_uri": "https://localhost:8080/"
        }
      },
      "outputs": [
        {
          "output_type": "execute_result",
          "data": {
            "text/plain": [
              "((120, 2), (30,))"
            ]
          },
          "metadata": {},
          "execution_count": 12
        }
      ],
      "source": [
        "from sklearn.model_selection import train_test_split\n",
        "x_train , x_test , y_train ,y_test = train_test_split(x,y,test_size=0.2,random_state=0)\n",
        "x_train.shape,y_test.shape"
      ]
    },
    {
      "cell_type": "code",
      "execution_count": 13,
      "id": "812243d8-5e2e-4967-9e52-b7c2b3e5a64d",
      "metadata": {
        "collapsed": true,
        "id": "812243d8-5e2e-4967-9e52-b7c2b3e5a64d",
        "outputId": "ad7c00d7-19b9-43ce-d490-8a16a6acf1e1",
        "colab": {
          "base_uri": "https://localhost:8080/"
        }
      },
      "outputs": [
        {
          "output_type": "execute_result",
          "data": {
            "text/plain": [
              "array([[6.4, 3.1],\n",
              "       [5.4, 3. ],\n",
              "       [5.2, 3.5],\n",
              "       [6.1, 3. ],\n",
              "       [6.4, 2.8],\n",
              "       [5.2, 2.7],\n",
              "       [5.7, 3.8],\n",
              "       [6. , 2.7],\n",
              "       [5.9, 3. ],\n",
              "       [5.8, 2.6],\n",
              "       [6.8, 3. ],\n",
              "       [4.7, 3.2],\n",
              "       [6.9, 3.1],\n",
              "       [5. , 3.5],\n",
              "       [5.4, 3.7],\n",
              "       [5. , 2. ],\n",
              "       [6.5, 3. ],\n",
              "       [6.7, 3.3],\n",
              "       [6. , 2.2],\n",
              "       [6.7, 2.5],\n",
              "       [5.6, 2.5],\n",
              "       [7.7, 3. ],\n",
              "       [6.3, 3.3],\n",
              "       [5.5, 2.4],\n",
              "       [6.3, 2.7],\n",
              "       [6.3, 2.8],\n",
              "       [4.9, 2.5],\n",
              "       [6.3, 2.5],\n",
              "       [7. , 3.2],\n",
              "       [6.5, 3. ],\n",
              "       [6. , 3.4],\n",
              "       [4.8, 3.1],\n",
              "       [5.8, 2.7],\n",
              "       [5.6, 2.7],\n",
              "       [5.6, 2.9],\n",
              "       [5.5, 2.5],\n",
              "       [6.1, 3. ],\n",
              "       [7.2, 3.2],\n",
              "       [5.3, 3.7],\n",
              "       [4.3, 3. ],\n",
              "       [6.4, 2.7],\n",
              "       [5.7, 3. ],\n",
              "       [5.4, 3.4],\n",
              "       [5.7, 4.4],\n",
              "       [6.9, 3.1],\n",
              "       [4.6, 3.1],\n",
              "       [5.9, 3. ],\n",
              "       [5.1, 2.5],\n",
              "       [4.6, 3.4],\n",
              "       [6.2, 2.2],\n",
              "       [7.2, 3.6],\n",
              "       [5.7, 2.9],\n",
              "       [4.8, 3. ],\n",
              "       [7.1, 3. ],\n",
              "       [6.9, 3.2],\n",
              "       [6.5, 3. ],\n",
              "       [6.4, 2.8],\n",
              "       [5.1, 3.8],\n",
              "       [4.8, 3.4],\n",
              "       [6.5, 3.2],\n",
              "       [6.7, 3.3],\n",
              "       [4.5, 2.3],\n",
              "       [6.2, 3.4],\n",
              "       [4.9, 3. ],\n",
              "       [5.7, 2.5],\n",
              "       [6.9, 3.1],\n",
              "       [4.4, 3.2],\n",
              "       [5. , 3.6],\n",
              "       [7.2, 3. ],\n",
              "       [5.1, 3.5],\n",
              "       [4.4, 3. ],\n",
              "       [5.4, 3.9],\n",
              "       [5.5, 2.3],\n",
              "       [6.8, 3.2],\n",
              "       [7.6, 3. ],\n",
              "       [5.1, 3.5],\n",
              "       [4.9, 3.1],\n",
              "       [5.2, 3.4],\n",
              "       [5.7, 2.8],\n",
              "       [6.6, 3. ],\n",
              "       [5. , 3.2],\n",
              "       [5.1, 3.3],\n",
              "       [6.4, 2.9],\n",
              "       [5.4, 3.4],\n",
              "       [7.7, 2.6],\n",
              "       [4.9, 2.4],\n",
              "       [7.9, 3.8],\n",
              "       [6.7, 3.1],\n",
              "       [5.2, 4.1],\n",
              "       [6. , 3. ],\n",
              "       [5.8, 4. ],\n",
              "       [7.7, 2.8],\n",
              "       [5.1, 3.8],\n",
              "       [4.7, 3.2],\n",
              "       [7.4, 2.8],\n",
              "       [5. , 3.3],\n",
              "       [6.3, 3.4],\n",
              "       [5.7, 2.8],\n",
              "       [5.8, 2.7],\n",
              "       [5.7, 2.6],\n",
              "       [6.4, 3.2],\n",
              "       [6.7, 3. ],\n",
              "       [6.3, 2.5],\n",
              "       [6.7, 3. ],\n",
              "       [5. , 3. ],\n",
              "       [5.5, 2.4],\n",
              "       [6.7, 3.1],\n",
              "       [5.8, 2.7],\n",
              "       [5.1, 3.4],\n",
              "       [6.6, 2.9],\n",
              "       [5.6, 3. ],\n",
              "       [5.9, 3.2],\n",
              "       [6.3, 2.3],\n",
              "       [5.5, 3.5],\n",
              "       [5.1, 3.7],\n",
              "       [4.9, 3.1],\n",
              "       [6.3, 2.9],\n",
              "       [5.8, 2.7],\n",
              "       [7.7, 3.8],\n",
              "       [4.6, 3.2]])"
            ]
          },
          "metadata": {},
          "execution_count": 13
        }
      ],
      "source": [
        "x_train"
      ]
    },
    {
      "cell_type": "code",
      "execution_count": 14,
      "id": "f8ba4b42-d31f-496d-a607-913e92f2ad12",
      "metadata": {
        "id": "f8ba4b42-d31f-496d-a607-913e92f2ad12"
      },
      "outputs": [],
      "source": [
        "from sklearn.neighbors import KNeighborsClassifier\n",
        "knn = KNeighborsClassifier(metric='euclidean')"
      ]
    },
    {
      "cell_type": "code",
      "execution_count": 15,
      "id": "e7d42545-a276-4e37-b28a-ced1b7ffac65",
      "metadata": {
        "id": "e7d42545-a276-4e37-b28a-ced1b7ffac65"
      },
      "outputs": [],
      "source": [
        "model = knn.fit(x_train,y_train)"
      ]
    },
    {
      "cell_type": "code",
      "execution_count": 16,
      "id": "452a309c-7cdd-43b4-a001-15daa8546abb",
      "metadata": {
        "id": "452a309c-7cdd-43b4-a001-15daa8546abb"
      },
      "outputs": [],
      "source": [
        "predict = model.predict(x_test)"
      ]
    },
    {
      "cell_type": "code",
      "execution_count": 17,
      "id": "19bea180-c977-4ba7-bd2f-a56def9fdf5e",
      "metadata": {
        "id": "19bea180-c977-4ba7-bd2f-a56def9fdf5e",
        "outputId": "c5d036b3-0c63-4426-a85a-9c138516a92f",
        "colab": {
          "base_uri": "https://localhost:8080/"
        }
      },
      "outputs": [
        {
          "output_type": "execute_result",
          "data": {
            "text/plain": [
              "array([1, 1, 0, 2, 0, 2, 0, 2, 1, 2, 2, 2, 2, 2, 2, 0, 2, 1, 0, 0, 1, 1,\n",
              "       0, 0, 2, 0, 0, 2, 1, 0])"
            ]
          },
          "metadata": {},
          "execution_count": 17
        }
      ],
      "source": [
        "predict"
      ]
    },
    {
      "cell_type": "code",
      "execution_count": 18,
      "id": "0c178a45-0717-492d-b125-9e0b1929566f",
      "metadata": {
        "id": "0c178a45-0717-492d-b125-9e0b1929566f",
        "outputId": "c5563233-077f-402e-a153-830840a104de",
        "colab": {
          "base_uri": "https://localhost:8080/"
        }
      },
      "outputs": [
        {
          "output_type": "execute_result",
          "data": {
            "text/plain": [
              "array([2, 1, 0, 2, 0, 2, 0, 1, 1, 1, 2, 1, 1, 1, 1, 0, 1, 1, 0, 0, 2, 1,\n",
              "       0, 0, 2, 0, 0, 1, 1, 0])"
            ]
          },
          "metadata": {},
          "execution_count": 18
        }
      ],
      "source": [
        "y_test"
      ]
    },
    {
      "cell_type": "markdown",
      "id": "b2676b49-f967-448c-8e2d-2d2c664ed4c2",
      "metadata": {
        "id": "b2676b49-f967-448c-8e2d-2d2c664ed4c2"
      },
      "source": [
        "### Accuracy parameters"
      ]
    },
    {
      "cell_type": "code",
      "execution_count": 19,
      "id": "3f2227d5-34c4-442a-9a3f-9214bb18fb0c",
      "metadata": {
        "id": "3f2227d5-34c4-442a-9a3f-9214bb18fb0c"
      },
      "outputs": [],
      "source": [
        "from sklearn.metrics import *"
      ]
    },
    {
      "cell_type": "code",
      "execution_count": 20,
      "id": "8b3974c7-d35b-4e5f-bcc1-139766d3cb44",
      "metadata": {
        "id": "8b3974c7-d35b-4e5f-bcc1-139766d3cb44",
        "outputId": "af3cb642-8883-4a5d-85b0-65a2d0a60b10",
        "colab": {
          "base_uri": "https://localhost:8080/"
        }
      },
      "outputs": [
        {
          "output_type": "execute_result",
          "data": {
            "text/plain": [
              "0.6666666666666666"
            ]
          },
          "metadata": {},
          "execution_count": 20
        }
      ],
      "source": [
        "accuracy_score(y_test,predict)"
      ]
    },
    {
      "cell_type": "markdown",
      "id": "914020ce-11e4-489a-827c-75e1de5836a5",
      "metadata": {
        "id": "914020ce-11e4-489a-827c-75e1de5836a5"
      },
      "source": [
        "### Confusion matrix"
      ]
    },
    {
      "cell_type": "code",
      "execution_count": 21,
      "id": "3079f299-7826-44fc-8b9e-292dc2d2c244",
      "metadata": {
        "id": "3079f299-7826-44fc-8b9e-292dc2d2c244",
        "outputId": "268b32f8-ee2a-4a64-f196-fdb8ce349cda",
        "colab": {
          "base_uri": "https://localhost:8080/"
        }
      },
      "outputs": [
        {
          "output_type": "execute_result",
          "data": {
            "text/plain": [
              "array([[11,  0,  0],\n",
              "       [ 0,  5,  8],\n",
              "       [ 0,  2,  4]])"
            ]
          },
          "metadata": {},
          "execution_count": 21
        }
      ],
      "source": [
        "confusion_matrix(y_test,predict)"
      ]
    },
    {
      "cell_type": "code",
      "execution_count": null,
      "id": "0327d8a6-7ea8-4082-8877-ec4df9825c4f",
      "metadata": {
        "id": "0327d8a6-7ea8-4082-8877-ec4df9825c4f",
        "outputId": "e3cd8b72-7142-4df5-9e92-af9e8b7ddd54"
      },
      "outputs": [
        {
          "data": {
            "text/plain": [
              "array([2])"
            ]
          },
          "execution_count": 81,
          "metadata": {},
          "output_type": "execute_result"
        }
      ],
      "source": [
        "model.predict(np.array([8,4.5]).reshape(-1,2))"
      ]
    },
    {
      "cell_type": "code",
      "execution_count": null,
      "id": "f79eb8a7-81a4-4f52-8b8f-715b933fcb06",
      "metadata": {
        "id": "f79eb8a7-81a4-4f52-8b8f-715b933fcb06",
        "outputId": "26e26a0c-7330-4d6e-93d2-52830212671b"
      },
      "outputs": [
        {
          "data": {
            "text/plain": [
              "array([1.        , 0.71428571, 0.33333333])"
            ]
          },
          "execution_count": 85,
          "metadata": {},
          "output_type": "execute_result"
        }
      ],
      "source": [
        "precision_score(y_test,predict,average=None)"
      ]
    },
    {
      "cell_type": "code",
      "execution_count": null,
      "id": "d4c51e65-d290-4de0-bdd2-a9f4e52ae342",
      "metadata": {
        "id": "d4c51e65-d290-4de0-bdd2-a9f4e52ae342",
        "outputId": "d3b48928-acd3-420e-a397-19d85317b5ea"
      },
      "outputs": [
        {
          "name": "stdout",
          "output_type": "stream",
          "text": [
            "              precision    recall  f1-score   support\n",
            "\n",
            "           0       1.00      1.00      1.00        11\n",
            "           1       0.71      0.38      0.50        13\n",
            "           2       0.33      0.67      0.44         6\n",
            "\n",
            "    accuracy                           0.67        30\n",
            "   macro avg       0.68      0.68      0.65        30\n",
            "weighted avg       0.74      0.67      0.67        30\n",
            "\n"
          ]
        }
      ],
      "source": [
        "print(classification_report(y_test,predict))"
      ]
    },
    {
      "cell_type": "markdown",
      "id": "9d554a1c-2052-4a58-9b2a-47a66430180d",
      "metadata": {
        "id": "9d554a1c-2052-4a58-9b2a-47a66430180d"
      },
      "source": [
        "### deciding best k"
      ]
    },
    {
      "cell_type": "code",
      "execution_count": 23,
      "id": "74c449a5-5017-4567-9273-673c6bf08279",
      "metadata": {
        "id": "74c449a5-5017-4567-9273-673c6bf08279"
      },
      "outputs": [],
      "source": [
        "n=range(1,21)"
      ]
    },
    {
      "cell_type": "code",
      "source": [
        "acc = []\n",
        "for i in range(1,21):\n",
        "  knn = KNeighborsClassifier(n_neighbors=i)\n",
        "  model = knn.fit(x_train,y_train)\n",
        "  predict = model.predict(x_test)\n",
        "  accy = accuracy_score(y_test,predict)\n",
        "  acc.append(accy)\n",
        "\n",
        "plt.plot(n,acc)\n",
        "plt.xlabel('n_neighbour')\n",
        "plt.ylabel('accuracy')\n",
        "plt.show()"
      ],
      "metadata": {
        "colab": {
          "base_uri": "https://localhost:8080/",
          "height": 450
        },
        "id": "hCZHgsXE1mPp",
        "outputId": "5711d20c-a933-4072-ed34-477c62ee43b8"
      },
      "id": "hCZHgsXE1mPp",
      "execution_count": 27,
      "outputs": [
        {
          "output_type": "display_data",
          "data": {
            "text/plain": [
              "<Figure size 640x480 with 1 Axes>"
            ],
            "image/png": "[encoded data removed]"
          },
          "metadata": {}
        }
      ]
    },
    {
      "cell_type": "code",
      "execution_count": 29,
      "id": "05436be5-8b6a-4d5c-b0ed-85b742343a7f",
      "metadata": {
        "id": "05436be5-8b6a-4d5c-b0ed-85b742343a7f",
        "outputId": "af229d9f-7c96-4da7-fce3-760518de3e44",
        "colab": {
          "base_uri": "https://localhost:8080/"
        }
      },
      "outputs": [
        {
          "output_type": "execute_result",
          "data": {
            "text/plain": [
              "0.7666666666666667"
            ]
          },
          "metadata": {},
          "execution_count": 29
        }
      ],
      "source": [
        "knn = KNeighborsClassifier(n_neighbors=4)\n",
        "model = knn.fit(x_train,y_train)\n",
        "model = model.fit(x_train,y_train)\n",
        "predict = model.predict(x_test)\n",
        "accuracy_score(y_test,predict)\n"
      ]
    },
    {
      "cell_type": "code",
      "execution_count": null,
      "id": "e7935fb8-9461-4265-897c-90ffce5354f5",
      "metadata": {
        "id": "e7935fb8-9461-4265-897c-90ffce5354f5",
        "outputId": "0eb0cce2-2b08-4e37-b048-1d61e3031586"
      },
      "outputs": [
        {
          "data": {
            "text/plain": [
              "0.7333333333333333"
            ]
          },
          "execution_count": 120,
          "metadata": {},
          "output_type": "execute_result"
        }
      ],
      "source": [
        "predict = model.predict(x_test)\n",
        "accuracy_score(y_test,predict)"
      ]
    }
  ],
  "metadata": {
    "kernelspec": {
      "display_name": "Python 3 (ipykernel)",
      "language": "python",
      "name": "python3"
    },
    "language_info": {
      "codemirror_mode": {
        "name": "ipython",
        "version": 3
      },
      "file_extension": ".py",
      "mimetype": "text/x-python",
      "name": "python",
      "nbconvert_exporter": "python",
      "pygments_lexer": "ipython3",
      "version": "3.12.7"
    },
    "colab": {
      "provenance": []
    }
  },
  "nbformat": 4,
  "nbformat_minor": 5
}